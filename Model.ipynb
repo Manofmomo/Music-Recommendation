{
  "nbformat": 4,
  "nbformat_minor": 0,
  "metadata": {
    "colab": {
      "name": "RUNNING DATACONTEST CODE",
      "provenance": [],
      "collapsed_sections": [],
      "toc_visible": true
    },
    "kernelspec": {
      "name": "python3",
      "display_name": "Python 3"
    },
    "language_info": {
      "name": "python"
    }
  },
  "cells": [
    {
      "cell_type": "code",
      "metadata": {
        "id": "l_CTgBS0Xo1o"
      },
      "source": [
        "import pandas as pd \n",
        "import numpy as np\n",
        "import matplotlib.pyplot as plt\n",
        "import seaborn as sns\n",
        "from sklearn.model_selection import train_test_split\n",
        "from sklearn.ensemble import RandomForestClassifier\n",
        "%matplotlib inline \n",
        "from sklearn import metrics\n",
        "from sklearn.metrics import mean_squared_error as MSE\n",
        "from sklearn import preprocessing\n",
        "from sklearn.cluster import DBSCAN\n",
        "from scipy.stats import mode\n",
        "from sklearn.preprocessing import StandardScaler,PowerTransformer\n",
        "\n",
        "from catboost import CatBoostRegressor\n",
        "from sklearn.model_selection import KFold\n",
        "from sklearn.metrics import roc_auc_score as auc\n",
        "from sklearn.cluster import AgglomerativeClustering\n",
        "import lightgbm as lgb\n",
        "\n",
        "import xgboost as xgb\n",
        "from sklearn.metrics import mean_squared_error\n",
        "\n",
        "import sklearn\n",
        "import warnings \n",
        "warnings.simplefilter(action='ignore', category=FutureWarning)\n",
        "\n",
        "\n",
        "# from sklearn import cross_validation, metrics   #Additional scklearn functions\n",
        "# from sklearn.grid_search import GridSearchCV   #Perforing grid search\n"
      ],
      "execution_count": null,
      "outputs": []
    },
    {
      "cell_type": "markdown",
      "metadata": {
        "id": "b7QDHq9cYyMI"
      },
      "source": [
        "#Import Files \n"
      ]
    },
    {
      "cell_type": "code",
      "metadata": {
        "colab": {
          "base_uri": "https://localhost:8080/"
        },
        "id": "JReQYUoauIQA",
        "outputId": "ebf5a2f8-5871-4ebe-fd84-1da8d7539ec5"
      },
      "source": [
        "# from google.colab import drive\n",
        "# drive.mount('/content/drive/')"
      ],
      "execution_count": null,
      "outputs": [
        {
          "output_type": "stream",
          "text": [
            "Drive already mounted at /content/drive/; to attempt to forcibly remount, call drive.mount(\"/content/drive/\", force_remount=True).\n"
          ],
          "name": "stdout"
        }
      ]
    },
    {
      "cell_type": "code",
      "metadata": {
        "id": "H8SoHSRfXrfv"
      },
      "source": [
        "# # Import data\n",
        "# data_songs=pd.read_csv('/content/drive/MyDrive/datacontest/songs.csv')\n",
        "# data_labels=pd.read_csv('/content/drive/MyDrive/datacontest/song_labels.csv')\n",
        "# data_train=pd.read_csv('/content/drive/MyDrive/datacontest/train.csv')\n",
        "# data_saveforlater=pd.read_csv('/content/drive/MyDrive/datacontest/save_for_later.csv')\n",
        "# df_test=pd.read_csv('/content/drive/MyDrive/datacontest/test.csv')\n",
        "\n",
        "# df = pd.DataFrame(np.arange(0,len(df_test),1),columns=['test_row_id'])\n",
        "# df['customer_id']=df_test['customer_id']\n",
        "# df['song_id']=df_test['song_id']\n",
        "\n"
      ],
      "execution_count": null,
      "outputs": []
    },
    {
      "cell_type": "code",
      "metadata": {
        "id": "nu2HVD-b3iwj"
      },
      "source": [
        "# Import data\n",
        "data_songs=pd.read_csv('songs.csv')\n",
        "data_labels=pd.read_csv('song_labels.csv')\n",
        "data_train=pd.read_csv('train.csv')\n",
        "data_saveforlater=pd.read_csv('save_for_later.csv')\n",
        "df_test=pd.read_csv('test.csv')\n",
        "\n",
        "\n",
        "df = pd.DataFrame(np.arange(0,len(df_test),1),columns=['test_row_id'])\n",
        "df['customer_id']=df_test['customer_id']\n",
        "df['song_id']=df_test['song_id']\n",
        "\n",
        "\n"
      ],
      "execution_count": null,
      "outputs": []
    },
    {
      "cell_type": "code",
      "metadata": {
        "id": "9Zb8HUnSgLWx"
      },
      "source": [
        "df_cust_map=pd.DataFrame(np.unique(np.array(pd.concat([df_test['customer_id'],data_train['customer_id']]))),columns=['customer_id'])"
      ],
      "execution_count": null,
      "outputs": []
    },
    {
      "cell_type": "code",
      "metadata": {
        "id": "X_qq-bj3t5tg"
      },
      "source": [
        "df_song_map=pd.DataFrame(np.unique(np.array(pd.concat([df_test['song_id'],data_train['song_id']]))),columns=['song_id'])"
      ],
      "execution_count": null,
      "outputs": []
    },
    {
      "cell_type": "markdown",
      "metadata": {
        "id": "0bG-HZe0Z_8D"
      },
      "source": [
        "# Labels Confidence Implementation\n"
      ]
    },
    {
      "cell_type": "code",
      "metadata": {
        "id": "882Qdkw5OEiq"
      },
      "source": [
        "df_train = data_train\n"
      ],
      "execution_count": null,
      "outputs": []
    },
    {
      "cell_type": "code",
      "metadata": {
        "id": "iDql4eP6GBXn"
      },
      "source": [
        "data_labels_fixed = data_labels.groupby(\"platform_id\").max()\n",
        "data_labels_fixed['total_count']=data_labels[['platform_id','count']].groupby(\"platform_id\").sum()\n",
        "data_labels_fixed['label_confidence']=data_labels_fixed['count']/data_labels_fixed['total_count']"
      ],
      "execution_count": null,
      "outputs": []
    },
    {
      "cell_type": "code",
      "metadata": {
        "id": "lZ9G7oxyhjqn"
      },
      "source": [
        "del data_labels_fixed['count']"
      ],
      "execution_count": null,
      "outputs": []
    },
    {
      "cell_type": "code",
      "metadata": {
        "id": "Wf_IXy4zDDT5"
      },
      "source": [
        "# Number of labels to consider\n",
        "numberoflabels=50\n",
        "\n",
        "data_labels_fixed = data_labels_fixed.reset_index()\n",
        "good_labels=np.array(data_labels_fixed['label_id'].value_counts().reset_index().iloc[0:numberoflabels]['index'])\n",
        "\n",
        "for i in range(10000):\n",
        "    if data_labels_fixed['label_id'][i] not in good_labels:\n",
        "        data_labels_fixed.at[i,'label_id']=-1"
      ],
      "execution_count": null,
      "outputs": []
    },
    {
      "cell_type": "markdown",
      "metadata": {
        "id": "KY9fPwhWdv3K"
      },
      "source": [
        "# DEAL WITH NANs"
      ]
    },
    {
      "cell_type": "code",
      "metadata": {
        "id": "GDArGod9k7Te"
      },
      "source": [
        "data_songs['released_year'].fillna(2012,inplace=True)"
      ],
      "execution_count": null,
      "outputs": []
    },
    {
      "cell_type": "code",
      "metadata": {
        "id": "SLPVh8Hpk7Me"
      },
      "source": [
        "\n",
        "# data_songs['language']=data_songs['language'].astype(str)\n",
        "# data_songs['language']=data_songs['language'].replace('en','eng')\n",
        "\n",
        "# data_songs['language']=data_songs['language'].replace('en-US','eng')\n",
        "# data_songs['language']=data_songs['language'].replace('en-GB','eng')\n",
        "# data_songs['language']=data_songs['language'].replace('en-CA','eng')\n",
        "\n",
        "data_songs['language'].fillna('nan',inplace=True)"
      ],
      "execution_count": null,
      "outputs": []
    },
    {
      "cell_type": "code",
      "metadata": {
        "id": "A6w77xkuv4rZ"
      },
      "source": [
        "data_songs['number_of_comments'].fillna(4842,inplace=True)\n"
      ],
      "execution_count": null,
      "outputs": []
    },
    {
      "cell_type": "markdown",
      "metadata": {
        "id": "he81HB1unNLo"
      },
      "source": [
        "# DJ COPY"
      ]
    },
    {
      "cell_type": "code",
      "metadata": {
        "id": "9_6m6yS_w9VC"
      },
      "source": [
        "# df_train_unmerged = df_train.copy()\n",
        "# df_test_unmerged = df_test.copy()"
      ],
      "execution_count": null,
      "outputs": []
    },
    {
      "cell_type": "markdown",
      "metadata": {
        "id": "NNe6DEHMcBYf"
      },
      "source": [
        "# Merging Data\n"
      ]
    },
    {
      "cell_type": "code",
      "metadata": {
        "id": "SKwWn7rPdL9w"
      },
      "source": [
        "# UNCOMMENT WHEN LABELS READY\n",
        "\n",
        "\n",
        "data_songs=pd.merge(\n",
        "    data_songs,\n",
        "    data_labels_fixed,\n",
        "    how=\"left\",\n",
        "    on='platform_id',\n",
        ")"
      ],
      "execution_count": null,
      "outputs": []
    },
    {
      "cell_type": "code",
      "metadata": {
        "id": "HZCoAO9_c-q1"
      },
      "source": [
        "df_train=pd.merge(\n",
        "    df_train,\n",
        "    data_songs,\n",
        "    how=\"left\",\n",
        "    on='song_id',\n",
        ")\n",
        "df_test=pd.merge(\n",
        "    df_test,\n",
        "    data_songs,\n",
        "    how=\"left\",\n",
        "    on='song_id',\n",
        ")\n",
        "data_saveforlater=pd.merge(\n",
        "    data_saveforlater,\n",
        "    data_songs,\n",
        "    how=\"left\",\n",
        "    on='song_id',\n",
        ")"
      ],
      "execution_count": null,
      "outputs": []
    },
    {
      "cell_type": "code",
      "metadata": {
        "id": "rK7Zpf33dUhI"
      },
      "source": [
        ""
      ],
      "execution_count": null,
      "outputs": []
    },
    {
      "cell_type": "markdown",
      "metadata": {
        "id": "sMA714PUeH87"
      },
      "source": [
        "# Get Customer Perferences"
      ]
    },
    {
      "cell_type": "code",
      "metadata": {
        "id": "GKjsftNlf_Fm"
      },
      "source": [
        ""
      ],
      "execution_count": null,
      "outputs": []
    },
    {
      "cell_type": "code",
      "metadata": {
        "id": "7GvT4kJ_ePAZ"
      },
      "source": [
        ""
      ],
      "execution_count": null,
      "outputs": []
    },
    {
      "cell_type": "code",
      "metadata": {
        "id": "JED-A8Rdflx6"
      },
      "source": [
        "df_cust_map=pd.merge(\n",
        "    df_cust_map,\n",
        "    data_saveforlater[['customer_id','released_year']].groupby('customer_id').median().reset_index(),\n",
        "    how=\"left\",\n",
        "    on='customer_id',\n",
        ")\n"
      ],
      "execution_count": null,
      "outputs": []
    },
    {
      "cell_type": "code",
      "metadata": {
        "id": "Z44CVWywinYl"
      },
      "source": [
        "df_cust_map=pd.merge(\n",
        "    df_cust_map,\n",
        "    data_saveforlater[['customer_id','number_of_comments']].groupby('customer_id').median().reset_index(),\n",
        "    how=\"left\",\n",
        "    on='customer_id',\n",
        ")\n"
      ],
      "execution_count": null,
      "outputs": []
    },
    {
      "cell_type": "code",
      "metadata": {
        "id": "3PawDjqIDzGY"
      },
      "source": [
        "def tempgrouper(x):\n",
        "  try: \n",
        "    return x.value_counts().index[0] \n",
        "  except: \n",
        "    return np.nan"
      ],
      "execution_count": null,
      "outputs": []
    },
    {
      "cell_type": "code",
      "metadata": {
        "id": "iY6ryh_mEE77"
      },
      "source": [
        "def tempconfidence(x):\n",
        "  try:\n",
        "    return x.value_counts()[0]/sum(x.value_counts())\n",
        "  except:\n",
        "    return np.nan"
      ],
      "execution_count": null,
      "outputs": []
    },
    {
      "cell_type": "code",
      "metadata": {
        "id": "DOH5Mrs4i6Wk"
      },
      "source": [
        "df_cust_map=pd.merge(\n",
        "    df_cust_map,\n",
        "    data_saveforlater[['customer_id','language']].groupby('customer_id').agg(lambda x:tempgrouper(x)).reset_index(),\n",
        "    how=\"left\",\n",
        "    on='customer_id',\n",
        ")"
      ],
      "execution_count": null,
      "outputs": []
    },
    {
      "cell_type": "code",
      "metadata": {
        "id": "VE5fxHaXj5ei"
      },
      "source": [
        "df_temp=data_saveforlater[['customer_id','language']].groupby('customer_id').agg(lambda x:tempconfidence(x)).reset_index()\n",
        "df_temp.rename(columns={\"language\": \"language_confidence\"},inplace=True)\n",
        "\n",
        "\n",
        "df_cust_map=pd.merge(\n",
        "    df_cust_map,\n",
        "    df_temp,\n",
        "    how=\"left\",\n",
        "    on='customer_id',\n",
        ")\n",
        "del df_temp"
      ],
      "execution_count": null,
      "outputs": []
    },
    {
      "cell_type": "code",
      "metadata": {
        "id": "BQuH_vI-tEJ1"
      },
      "source": [
        "df_temp=data_saveforlater[['customer_id','language']].groupby('customer_id').agg(lambda x:sum(x.value_counts())).reset_index()\n",
        "df_temp.rename(columns={\"language\": \"language_total\"},inplace=True)\n",
        "\n",
        "\n",
        "df_cust_map=pd.merge(\n",
        "    df_cust_map,\n",
        "    df_temp,\n",
        "    how=\"left\",\n",
        "    on='customer_id',\n",
        ")\n",
        "del df_temp"
      ],
      "execution_count": null,
      "outputs": []
    },
    {
      "cell_type": "code",
      "metadata": {
        "id": "w0r9NhUymF_K"
      },
      "source": [
        "df_cust_map.rename(columns={\"released_year\": \"released_year_c\",\"number_of_comments\":\"number_of_comments_c\",\"language\":\"language_c\"},inplace=True)\n"
      ],
      "execution_count": null,
      "outputs": []
    },
    {
      "cell_type": "code",
      "metadata": {
        "id": "zMVLKJyFGitC"
      },
      "source": [
        "df_cust_map=pd.merge(\n",
        "    df_cust_map,\n",
        "    data_saveforlater[['customer_id','label_id']].groupby('customer_id').agg(lambda x:tempgrouper(x)).reset_index(),\n",
        "    how=\"left\",\n",
        "    on='customer_id',\n",
        ")"
      ],
      "execution_count": null,
      "outputs": []
    },
    {
      "cell_type": "code",
      "metadata": {
        "id": "VKMY6x1Fiv1A"
      },
      "source": [
        ""
      ],
      "execution_count": null,
      "outputs": []
    },
    {
      "cell_type": "code",
      "metadata": {
        "id": "FXA0v9oGmit2"
      },
      "source": [
        ""
      ],
      "execution_count": null,
      "outputs": []
    },
    {
      "cell_type": "code",
      "metadata": {
        "id": "QFWk_nUmHlYR"
      },
      "source": [
        "df_cust_map.rename(columns={\"released_year\": \"released_year_c\",\"number_of_comments\":\"number_of_comments_c\",\"language\":\"language_c\"},inplace=True)\n"
      ],
      "execution_count": null,
      "outputs": []
    },
    {
      "cell_type": "markdown",
      "metadata": {
        "id": "M1pokhNlnX8y"
      },
      "source": [
        "# Merge Customer data and form new features"
      ]
    },
    {
      "cell_type": "code",
      "metadata": {
        "id": "sVn4HG10nA4i"
      },
      "source": [
        "\n",
        "df_train=pd.merge(\n",
        "    df_train,\n",
        "    df_cust_map,\n",
        "    how=\"left\",\n",
        "    on='customer_id',\n",
        ")\n",
        "df_test=pd.merge(\n",
        "    df_test,\n",
        "    df_cust_map,\n",
        "    how=\"left\",\n",
        "    on='customer_id',\n",
        ")"
      ],
      "execution_count": null,
      "outputs": []
    },
    {
      "cell_type": "code",
      "metadata": {
        "id": "pvreoKsmufQL"
      },
      "source": [
        "df_train['language_TF']=df_train['language']==df_train['language_c']\n",
        "df_test['language_TF']=df_test['language']==df_test['language_c']"
      ],
      "execution_count": null,
      "outputs": []
    },
    {
      "cell_type": "code",
      "metadata": {
        "id": "-Mt-yMLSnlMc"
      },
      "source": [
        "df_train['released_year_diff']=df_train['released_year']-df_train['released_year_c']\n",
        "df_test['released_year_diff']=df_test['released_year']-df_test['released_year_c']"
      ],
      "execution_count": null,
      "outputs": []
    },
    {
      "cell_type": "code",
      "metadata": {
        "id": "jqbkBGaIoYRo"
      },
      "source": [
        "df_train['number_of_comments_diff']=df_train['number_of_comments']-df_train['number_of_comments_c']\n",
        "df_test['number_of_comments_diff']=df_test['number_of_comments']-df_test['number_of_comments_c']"
      ],
      "execution_count": null,
      "outputs": []
    },
    {
      "cell_type": "code",
      "metadata": {
        "id": "tlIh8CBqnxZF"
      },
      "source": [
        "df_train['label_TF']=df_train['label_id_x']==df_train['label_id_y']\n",
        "df_test['label_TF']=df_test['label_id_x']==df_test['label_id_y']"
      ],
      "execution_count": null,
      "outputs": []
    },
    {
      "cell_type": "code",
      "metadata": {
        "id": "ThXj8GZ9o31o"
      },
      "source": [
        "del df_train['released_year']\n",
        "del df_test['released_year']\n",
        "\n",
        "del df_train['released_year_c']\n",
        "del df_test['released_year_c']\n",
        "\n",
        "del df_train['number_of_comments']\n",
        "del df_test['number_of_comments']\n",
        "\n",
        "del df_train['number_of_comments_c']\n",
        "del df_test['number_of_comments_c']\n",
        "\n",
        "del df_train['language']\n",
        "del df_test['language']\n",
        "\n",
        "del df_train['language_c']\n",
        "del df_test['language_c']\n",
        "\n",
        "del df_train['label_id_x']\n",
        "del df_test['label_id_x']\n",
        "\n",
        "del df_train['label_id_y']\n",
        "del df_test['label_id_y']\n",
        "\n"
      ],
      "execution_count": null,
      "outputs": []
    },
    {
      "cell_type": "code",
      "metadata": {
        "id": "DpCIN0yGoA2t"
      },
      "source": [
        ""
      ],
      "execution_count": null,
      "outputs": []
    },
    {
      "cell_type": "markdown",
      "metadata": {
        "id": "FG8YaQC9txAp"
      },
      "source": [
        "# Getting Song data"
      ]
    },
    {
      "cell_type": "code",
      "metadata": {
        "id": "BR2b59lyoK45"
      },
      "source": [
        ""
      ],
      "execution_count": null,
      "outputs": []
    },
    {
      "cell_type": "code",
      "metadata": {
        "id": "YMKNyfBhuVB_"
      },
      "source": [
        "df_temp=data_saveforlater[['customer_id',\t'song_id'\t]].groupby('song_id').count().reset_index()\n",
        "df_temp.rename(columns={\"customer_id\": \"count_saved\"},inplace=True)\n",
        "\n",
        "\n",
        "df_song_map=pd.merge(\n",
        "    df_song_map,\n",
        "    df_temp,\n",
        "    how=\"left\",\n",
        "    on='song_id',\n",
        ")\n",
        "del df_temp"
      ],
      "execution_count": null,
      "outputs": []
    },
    {
      "cell_type": "code",
      "metadata": {
        "id": "BIC12etBxVqZ"
      },
      "source": [
        "\n",
        "df_train=pd.merge(\n",
        "    df_train,\n",
        "    df_song_map,\n",
        "    how=\"left\",\n",
        "    on='song_id',\n",
        ")\n",
        "df_test=pd.merge(\n",
        "    df_test,\n",
        "    df_song_map,\n",
        "    how=\"left\",\n",
        "    on='song_id',\n",
        ")"
      ],
      "execution_count": null,
      "outputs": []
    },
    {
      "cell_type": "code",
      "metadata": {
        "id": "fUEsjNfFxiAQ"
      },
      "source": [
        ""
      ],
      "execution_count": null,
      "outputs": []
    },
    {
      "cell_type": "markdown",
      "metadata": {
        "id": "bhrKdPOyHUeG"
      },
      "source": [
        "# Mean Encoding"
      ]
    },
    {
      "cell_type": "code",
      "metadata": {
        "id": "O7wgJnaI3iwy"
      },
      "source": [
        "Mean_cust_score = df_train.groupby(['customer_id'])['score'].mean().to_dict()\n",
        "df_train['customer_means'] =  df_train['customer_id'].map(Mean_cust_score)\n",
        "df['score_mean']=df['customer_id'].astype(str).map(Mean_cust_score)\n",
        "\n",
        "df_test['customer_means'] =  df_test['customer_id'].map(Mean_cust_score)\n",
        "\n",
        "Mean_song_score = df_train.groupby(['song_id'])['score'].mean().to_dict()\n",
        "df_train['song_means'] =  df_train['song_id'].map(Mean_song_score)\n",
        "df_test['song_means'] =  df_test['song_id'].map(Mean_song_score)\n",
        "\n"
      ],
      "execution_count": null,
      "outputs": []
    },
    {
      "cell_type": "markdown",
      "metadata": {
        "id": "eEohtI9QyFt0"
      },
      "source": [
        "# Label Encoding\n"
      ]
    },
    {
      "cell_type": "code",
      "metadata": {
        "id": "ibwc4i5UyHp2"
      },
      "source": [
        "def labelencodethis2(df_train,df_test,column_name):\n",
        "  le = preprocessing.LabelEncoder()\n",
        "  fitter = le.fit(np.unique(np.array(pd.concat([df_test[column_name].astype(str),df_train[column_name].astype(str)]))))\n",
        "  df_train[column_name] = fitter.transform(df_train[column_name].astype(str))\n",
        "  df_test[column_name] = fitter.transform(df_test[column_name].astype(str))\n",
        "  df_train[column_name]=df_train[column_name].astype(int)\n",
        "  df_test[column_name]=df_test[column_name].astype(int)\n",
        "\n",
        "def labelencodethis3(df_train,df_test,data_saveforlater,column_name):\n",
        "  le = preprocessing.LabelEncoder()\n",
        "  fitter = le.fit(np.unique(np.array(pd.concat([df_test[column_name].astype(str),df_train[column_name].astype(str),data_saveforlater[column_name].astype(str)]))))\n",
        "  df_train[column_name] = fitter.transform(df_train[column_name].astype(str))\n",
        "  df_test[column_name] = fitter.transform(df_test[column_name].astype(str))\n",
        "  data_saveforlater[column_name] = fitter.transform(data_saveforlater[column_name].astype(str))\n",
        "\n",
        "  df_train[column_name]=df_train[column_name].astype(int)\n",
        "  df_test[column_name]=df_test[column_name].astype(int)\n",
        "  data_saveforlater[column_name]=data_saveforlater[column_name].astype(int)\n",
        "\n"
      ],
      "execution_count": null,
      "outputs": []
    },
    {
      "cell_type": "code",
      "metadata": {
        "id": "Q-d4Z5ZUy9gE"
      },
      "source": [
        "labelencodethis3(df_train,df_test,data_saveforlater,'customer_id')\n",
        "labelencodethis3(df_train,df_test,data_saveforlater,'song_id')\n",
        "labelencodethis2(df_train,df_test,'language_TF')\n",
        "labelencodethis2(df_train,df_test,'label_TF')\n"
      ],
      "execution_count": null,
      "outputs": []
    },
    {
      "cell_type": "code",
      "metadata": {
        "id": "Az3xlaCCCCzS"
      },
      "source": [
        ""
      ],
      "execution_count": null,
      "outputs": []
    },
    {
      "cell_type": "code",
      "metadata": {
        "id": "SMRdwXqMzUCQ"
      },
      "source": [
        "del df_test['platform_id']\n",
        "del df_train['platform_id']"
      ],
      "execution_count": null,
      "outputs": []
    },
    {
      "cell_type": "code",
      "metadata": {
        "id": "_A14va4xPmuG"
      },
      "source": [
        ""
      ],
      "execution_count": null,
      "outputs": []
    },
    {
      "cell_type": "markdown",
      "metadata": {
        "id": "g2TZ3-Ck7ZnU"
      },
      "source": [
        "# Random SHit"
      ]
    },
    {
      "cell_type": "code",
      "metadata": {
        "id": "mSC4L_2S7ZKN"
      },
      "source": [
        "df_train['released_year_diff']=np.abs(df_train['released_year_diff'])\n",
        "df_test['released_year_diff']=np.abs(df_test['released_year_diff'])\n",
        "\n",
        "df_train['number_of_comments_diff']=np.abs(df_train['number_of_comments_diff'])\n",
        "df_test['number_of_comments_diff']=np.abs(df_test['number_of_comments_diff'])\n"
      ],
      "execution_count": null,
      "outputs": []
    },
    {
      "cell_type": "code",
      "metadata": {
        "id": "g2K7jrB4TW-n"
      },
      "source": [
        "df_train['score_act']=df_train['score']-df_train['customer_means']\n"
      ],
      "execution_count": null,
      "outputs": []
    },
    {
      "cell_type": "markdown",
      "metadata": {
        "id": "8-oJlUISzrWu"
      },
      "source": [
        "# Catboost"
      ]
    },
    {
      "cell_type": "code",
      "metadata": {
        "id": "qBJLHDLwzq18"
      },
      "source": [
        "df_trainac=df_train[['customer_id','song_id','score_act','language_confidence',\t'language_total',\t'released_year_diff',\t'number_of_comments_diff',\t'language_TF',\t'count_saved','label_TF','label_confidence']]\n",
        "df_testac=df_test[['customer_id','song_id','language_confidence',\t'language_total',\t'released_year_diff',\t'number_of_comments_diff',\t'language_TF',\t'count_saved','label_TF','label_confidence']]\n"
      ],
      "execution_count": null,
      "outputs": []
    },
    {
      "cell_type": "code",
      "metadata": {
        "id": "GNmXK2f20cV3"
      },
      "source": [
        "df_trainac['language_confidence']=df_trainac['language_confidence'].fillna(0)\n",
        "\n",
        "df_trainac['language_total']=df_trainac['language_total'].fillna(19)\n",
        "df_trainac['released_year_diff']=df_trainac['released_year_diff'].fillna(47.67)\n",
        "df_trainac['number_of_comments_diff']=df_trainac['number_of_comments_diff'].fillna(7385.0  )\n",
        "\n",
        "df_testac['language_confidence']=df_testac['language_confidence'].fillna(0)\n",
        "df_testac['language_total']=df_testac['language_total'].fillna(19)\n",
        "df_testac['released_year_diff']=df_testac['released_year_diff'].fillna(47.67)\n",
        "df_testac['number_of_comments_diff']=df_testac['number_of_comments_diff'].fillna( 7385.0)\n"
      ],
      "execution_count": null,
      "outputs": []
    },
    {
      "cell_type": "code",
      "metadata": {
        "id": "bLzlZDh-0QLf"
      },
      "source": [
        "categorical_features_indices = [0,1]\n",
        "\n",
        "df_actual_train = df_trainac[df_trainac.columns[df_trainac.columns != 'score_act']].copy()\n",
        "\n",
        "\n",
        "X_train_catboost, X_validation_catboost, y_train_catboost, y_validation_catboost = train_test_split(df_actual_train, df_trainac['score_act'],test_size=0.2, random_state=123)\n",
        "\n",
        "\n",
        "\n",
        "modelcat=CatBoostRegressor(iterations=500, depth=8, learning_rate=0.2, loss_function='RMSE', allow_writing_files=False,random_seed=123)\n",
        "\n",
        "modelcat.fit(X_train_catboost, y_train_catboost,cat_features=categorical_features_indices,eval_set=(X_validation_catboost, y_validation_catboost),verbose=False)"
      ],
      "execution_count": null,
      "outputs": []
    },
    {
      "cell_type": "code",
      "metadata": {
        "id": "VN31dy86UDZp"
      },
      "source": [
        "pred=modelcat.predict(df_testac)\n",
        "df['catboost']=pred+df['score_mean']\n",
        "df['catboost']=df['catboost'].fillna(df['score_mean'])\n"
      ],
      "execution_count": null,
      "outputs": []
    },
    {
      "cell_type": "code",
      "metadata": {
        "id": "OQ2auf9LZevG"
      },
      "source": [
        "del df_testac\n",
        "del df_trainac\n",
        "del modelcat"
      ],
      "execution_count": null,
      "outputs": []
    },
    {
      "cell_type": "code",
      "metadata": {
        "id": "g7AyW7O0NgvO"
      },
      "source": [
        ""
      ],
      "execution_count": null,
      "outputs": []
    },
    {
      "cell_type": "markdown",
      "metadata": {
        "id": "jcxCE7hycpuK"
      },
      "source": [
        "# XGBoost\n"
      ]
    },
    {
      "cell_type": "code",
      "metadata": {
        "id": "VvX1Ujnqcs_N"
      },
      "source": [
        "df_train_xgb=df_train[['score_act','customer_means', 'language_confidence',\t'language_total',\t'released_year_diff',\t'number_of_comments_diff',\t'count_saved', 'label_confidence','song_means']]\n",
        "df_test_xgb=df_test[['customer_means', 'language_confidence',\t'language_total',\t'released_year_diff',\t'number_of_comments_diff',\t'count_saved', 'label_confidence','song_means']]\n",
        "\n",
        "predictions_xgb = xgb.DMatrix(df_test_xgb)"
      ],
      "execution_count": null,
      "outputs": []
    },
    {
      "cell_type": "code",
      "metadata": {
        "id": "c_b_JEZgctPO"
      },
      "source": [
        "y_xgb = df_train_xgb['score_act']\n",
        "x_xgb = df_train_xgb.drop('score_act',axis = 1)"
      ],
      "execution_count": null,
      "outputs": []
    },
    {
      "cell_type": "code",
      "metadata": {
        "id": "CiBPTGAyctFf"
      },
      "source": [
        "x_train_xgb, x_test_xgb, y_train_xgb, y_test_xgb = train_test_split(x_xgb, y_xgb, test_size=0.25)\n",
        "dtrain = xgb.DMatrix(x_train_xgb, label=y_train_xgb)\n",
        "dtest = xgb.DMatrix(df_test_xgb)\n"
      ],
      "execution_count": null,
      "outputs": []
    },
    {
      "cell_type": "code",
      "metadata": {
        "id": "ogvq5n8C2Z2G"
      },
      "source": [
        "optimumparams = {'colsample_bytree': 0.8969777504856158,\n",
        " 'gamma': 0.07867280134809351,\n",
        " 'max_depth': 6}"
      ],
      "execution_count": null,
      "outputs": []
    },
    {
      "cell_type": "code",
      "metadata": {
        "id": "iHp6M798x_aN"
      },
      "source": [
        "modelxgb = xgb.train(optimumparams, dtrain, num_boost_round=250)\n"
      ],
      "execution_count": null,
      "outputs": []
    },
    {
      "cell_type": "code",
      "metadata": {
        "id": "H5VFTsVPCNlI"
      },
      "source": [
        "import joblib"
      ],
      "execution_count": null,
      "outputs": []
    },
    {
      "cell_type": "code",
      "metadata": {
        "id": "K-gSHV1uzMV8"
      },
      "source": [
        "# Predict on testing and training set\n",
        "# training\n",
        "#bst = xgb.train(param, dtrain, num_round)\n",
        "\n",
        "#save model\n",
        "joblib.dump(modelxgb, 'xgb_model.dat')\n",
        "modelxgb.__del__()\n",
        "\n",
        "#load saved model\n",
        "modelxgb = joblib.load('xgb_model.dat')\n",
        "\n",
        "pred_xgb = modelxgb.predict(dtest)"
      ],
      "execution_count": null,
      "outputs": []
    },
    {
      "cell_type": "code",
      "metadata": {
        "id": "dpkPiY-9VO7-"
      },
      "source": [
        "import os\n",
        "os.remove('xgb_model.dat')"
      ],
      "execution_count": null,
      "outputs": []
    },
    {
      "cell_type": "code",
      "metadata": {
        "id": "0fAgqj-MUJBS"
      },
      "source": [
        "xgbscores = pd.DataFrame(pred_xgb)"
      ],
      "execution_count": null,
      "outputs": []
    },
    {
      "cell_type": "code",
      "metadata": {
        "colab": {
          "base_uri": "https://localhost:8080/",
          "height": 195
        },
        "id": "5Fi9jTPCFFQb",
        "outputId": "842cebbd-1aed-43d8-cf0c-bf1b0c83b36e"
      },
      "source": [
        "df['xgboostscore'] = xgbscores.copy()"
      ],
      "execution_count": null,
      "outputs": [
        {
          "output_type": "execute_result",
          "data": {
            "text/html": [
              "<div>\n",
              "<style scoped>\n",
              "    .dataframe tbody tr th:only-of-type {\n",
              "        vertical-align: middle;\n",
              "    }\n",
              "\n",
              "    .dataframe tbody tr th {\n",
              "        vertical-align: top;\n",
              "    }\n",
              "\n",
              "    .dataframe thead th {\n",
              "        text-align: right;\n",
              "    }\n",
              "</style>\n",
              "<table border=\"1\" class=\"dataframe\">\n",
              "  <thead>\n",
              "    <tr style=\"text-align: right;\">\n",
              "      <th></th>\n",
              "      <th>test_row_id</th>\n",
              "      <th>customer_id</th>\n",
              "      <th>song_id</th>\n",
              "      <th>score_mean</th>\n",
              "      <th>xgboostscore</th>\n",
              "    </tr>\n",
              "  </thead>\n",
              "  <tbody>\n",
              "    <tr>\n",
              "      <th>0</th>\n",
              "      <td>0</td>\n",
              "      <td>J24644</td>\n",
              "      <td>5304</td>\n",
              "      <td>3.566667</td>\n",
              "      <td>-0.482059</td>\n",
              "    </tr>\n",
              "    <tr>\n",
              "      <th>1</th>\n",
              "      <td>1</td>\n",
              "      <td>G29701</td>\n",
              "      <td>123</td>\n",
              "      <td>3.722222</td>\n",
              "      <td>-0.084154</td>\n",
              "    </tr>\n",
              "    <tr>\n",
              "      <th>2</th>\n",
              "      <td>2</td>\n",
              "      <td>M29977</td>\n",
              "      <td>11</td>\n",
              "      <td>4.000000</td>\n",
              "      <td>0.104349</td>\n",
              "    </tr>\n",
              "    <tr>\n",
              "      <th>3</th>\n",
              "      <td>3</td>\n",
              "      <td>H50752</td>\n",
              "      <td>1445</td>\n",
              "      <td>3.600000</td>\n",
              "      <td>0.058483</td>\n",
              "    </tr>\n",
              "    <tr>\n",
              "      <th>4</th>\n",
              "      <td>4</td>\n",
              "      <td>J42394</td>\n",
              "      <td>271</td>\n",
              "      <td>4.476190</td>\n",
              "      <td>0.068271</td>\n",
              "    </tr>\n",
              "  </tbody>\n",
              "</table>\n",
              "</div>"
            ],
            "text/plain": [
              "   test_row_id customer_id  song_id  score_mean  xgboostscore\n",
              "0            0      J24644     5304    3.566667     -0.482059\n",
              "1            1      G29701      123    3.722222     -0.084154\n",
              "2            2      M29977       11    4.000000      0.104349\n",
              "3            3      H50752     1445    3.600000      0.058483\n",
              "4            4      J42394      271    4.476190      0.068271"
            ]
          },
          "metadata": {
            "tags": []
          },
          "execution_count": 62
        }
      ]
    },
    {
      "cell_type": "code",
      "metadata": {
        "id": "x9SQrXfNMA_F"
      },
      "source": [
        "df['xgboost'] = df['xgboostscore']+df['score_mean']"
      ],
      "execution_count": null,
      "outputs": []
    },
    {
      "cell_type": "code",
      "metadata": {
        "id": "VER07jJVaDDk"
      },
      "source": [
        "df['xgboost']=df['xgboost'].fillna(df['score_mean'])"
      ],
      "execution_count": null,
      "outputs": []
    },
    {
      "cell_type": "code",
      "metadata": {
        "id": "02t7DzE9MQki"
      },
      "source": [
        "del df['xgboostscore']"
      ],
      "execution_count": null,
      "outputs": []
    },
    {
      "cell_type": "code",
      "metadata": {
        "id": "xmiFzt3Y45gT"
      },
      "source": [
        "del df_train_xgb\n",
        "del df_test_xgb"
      ],
      "execution_count": null,
      "outputs": []
    },
    {
      "cell_type": "markdown",
      "metadata": {
        "id": "z9_VDjVzaA66"
      },
      "source": [
        "# LIGHTGBM\n"
      ]
    },
    {
      "cell_type": "code",
      "metadata": {
        "id": "OW1E0G4We5BH"
      },
      "source": [
        "\n",
        "df_train_lgbm=df_train[['score_act','customer_id','song_id', 'language_confidence',\t'language_total',\t'released_year_diff',\t'number_of_comments_diff',\t'language_TF',\t'count_saved','label_TF','label_confidence','song_means']]\n",
        "df_test_lgbm=df_test[['customer_id','song_id', 'language_confidence',\t'language_total',\t'released_year_diff',\t'number_of_comments_diff',\t'language_TF',\t'count_saved','label_TF','label_confidence','song_means']]"
      ],
      "execution_count": null,
      "outputs": []
    },
    {
      "cell_type": "code",
      "metadata": {
        "id": "pO8JlH3bcUrm"
      },
      "source": [
        "y_lgbm = df_train_lgbm['score_act']\n",
        "x_lgbm = df_train_lgbm.drop('score_act',axis = 1)"
      ],
      "execution_count": null,
      "outputs": []
    },
    {
      "cell_type": "code",
      "metadata": {
        "id": "ZrAsD50-cUdk"
      },
      "source": [
        "opt_params={'bagging_fraction': 0.9664821006536182,\n",
        " 'boost_from_average': False,\n",
        " 'feature_fraction': 0.5056948113060237,\n",
        " 'is_unbalance': True,\n",
        " 'learning_rate': 0.5114358817391321,\n",
        " 'max_bin': 90,\n",
        " 'max_depth': 12,\n",
        " 'metric': 'rmse',\n",
        " 'min_data_in_leaf': 29,\n",
        " 'min_sum_hessian_in_leaf': 98.78899084527525,\n",
        " 'num_leaves': 32,\n",
        " 'objective': 'regression',\n",
        " 'subsample': 0.6912001887307938}"
      ],
      "execution_count": null,
      "outputs": []
    },
    {
      "cell_type": "code",
      "metadata": {
        "id": "B-0pWatacUYA"
      },
      "source": [
        "x_train_lgbm, x_test_lgbm, y_train_lgbm, y_test_lgbm = train_test_split(x_lgbm, y_lgbm, test_size=0.2, random_state=42)"
      ],
      "execution_count": null,
      "outputs": []
    },
    {
      "cell_type": "code",
      "metadata": {
        "id": "9gA2308ZrIhe"
      },
      "source": [
        "gbm = lgb.LGBMRegressor(**opt_params)"
      ],
      "execution_count": null,
      "outputs": []
    },
    {
      "cell_type": "code",
      "metadata": {
        "id": "S6urq8MwrIdX"
      },
      "source": [
        "gbm.fit(x_train_lgbm, y_train_lgbm,\n",
        "        eval_set=[(x_test_lgbm, y_test_lgbm)],\n",
        "        eval_metric='l1',\n",
        "        early_stopping_rounds=1000,\n",
        "        categorical_feature = [0,1,6,8],verbose=0)"
      ],
      "execution_count": null,
      "outputs": []
    },
    {
      "cell_type": "code",
      "metadata": {
        "id": "eSAqNyW0rIbN"
      },
      "source": [
        "y_pred_lgbm = gbm.predict(df_test_lgbm, num_iteration=gbm.best_iteration_)"
      ],
      "execution_count": null,
      "outputs": []
    },
    {
      "cell_type": "code",
      "metadata": {
        "id": "yd_m8MMNt38e"
      },
      "source": [
        "df['lightgbm']=y_pred_lgbm+df['score_mean']\n",
        "df['lightgbm']=df['lightgbm'].fillna(df['score_mean'])"
      ],
      "execution_count": null,
      "outputs": []
    },
    {
      "cell_type": "code",
      "metadata": {
        "id": "xE-HNe7oonhY"
      },
      "source": [
        "del df_train_lgbm\n",
        "del df_test_lgbm"
      ],
      "execution_count": null,
      "outputs": []
    },
    {
      "cell_type": "markdown",
      "metadata": {
        "id": "MplXjy5TJ6_G"
      },
      "source": [
        "Temporary"
      ]
    },
    {
      "cell_type": "code",
      "metadata": {
        "id": "cSD7TpKEJ6Xj"
      },
      "source": [
        "df['score']=(df['catboost']+df['lightgbm']+df['xgboost'])/3\n",
        "df['score']=df['score'].clip(1,5)\n",
        "df['score']=df['score'].round(0)\n",
        "\n",
        "df[['test_row_id','score']].to_csv(\"predictions.csv\",index=False)\n"
      ],
      "execution_count": null,
      "outputs": []
    },
    {
      "cell_type": "markdown",
      "metadata": {
        "id": "PtySZsSIZf1t"
      },
      "source": [
        "# Submit\n"
      ]
    },
    {
      "cell_type": "code",
      "metadata": {
        "id": "Oyz_eOQDgJr9"
      },
      "source": [
        "print(\"Saved the csv file succesfully\")"
      ],
      "execution_count": null,
      "outputs": []
    }
  ]
}